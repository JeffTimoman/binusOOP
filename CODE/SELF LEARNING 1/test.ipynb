{
 "cells": [
  {
   "cell_type": "code",
   "execution_count": 3,
   "metadata": {},
   "outputs": [
    {
     "name": "stdout",
     "output_type": "stream",
     "text": [
      "Jeff\n",
      "(1, 2)\n"
     ]
    }
   ],
   "source": [
    "string: str = \"Jeff\"\n",
    "las: tuple[int, ...] = (1, 2)\n",
    "\n",
    "print(string)\n",
    "print(las)"
   ]
  }
 ],
 "metadata": {
  "kernelspec": {
   "display_name": "Python 3",
   "language": "python",
   "name": "python3"
  },
  "language_info": {
   "codemirror_mode": {
    "name": "ipython",
    "version": 3
   },
   "file_extension": ".py",
   "mimetype": "text/x-python",
   "name": "python",
   "nbconvert_exporter": "python",
   "pygments_lexer": "ipython3",
   "version": "3.10.6"
  },
  "orig_nbformat": 4,
  "vscode": {
   "interpreter": {
    "hash": "6fff6653d2e8d1708d6cf49bd9b145b1784fc75233edee07bc358c156e76e180"
   }
  }
 },
 "nbformat": 4,
 "nbformat_minor": 2
}
